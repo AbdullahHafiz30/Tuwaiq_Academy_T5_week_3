{
 "cells": [
  {
   "cell_type": "markdown",
   "id": "6b5c524a",
   "metadata": {},
   "source": [
    "# JSON Practice Exercises\n",
    "\n",
    "These exercises will help you practice working with JSON in Python."
   ]
  },
  {
   "cell_type": "markdown",
   "id": "530fc65c",
   "metadata": {},
   "source": [
    "## Exercise 1: Converting Python Objects to JSON\n",
    "\n",
    "Create a Python dictionary representing a book with the following attributes:\n",
    "- title\n",
    "- author\n",
    "- year\n",
    "\n",
    "Convert this dictionary to a JSON string using `json.dumps()` and print the result."
   ]
  },
  {
   "cell_type": "code",
   "execution_count": 1,
   "id": "ea150643",
   "metadata": {},
   "outputs": [],
   "source": [
    "import json"
   ]
  },
  {
   "cell_type": "code",
   "execution_count": 2,
   "id": "f74a5ed5",
   "metadata": {},
   "outputs": [
    {
     "name": "stdout",
     "output_type": "stream",
     "text": [
      "{\"title\": \"first encounters\", \"author\": \"jeremy fox\", \"year\": \"1987\"}\n"
     ]
    }
   ],
   "source": [
    "book_dict = {\n",
    "    \"title\": \"first encounters\",\n",
    "    \"author\":\"jeremy fox\",\n",
    "    \"year\":\"1987\",\n",
    "}\n",
    "\n",
    "book_json = json.dumps(book_dict)\n",
    "print(book_json)"
   ]
  },
  {
   "cell_type": "markdown",
   "id": "84799d52",
   "metadata": {},
   "source": [
    "## Exercise 2: Converting JSON to Python Objects\n",
    "\n",
    "Given the following JSON string:\n",
    "```json\n",
    "'{\"name\": \"Alice\", \"age\": 25, \"city\": \"Wonderland\"}'\n",
    "```\n",
    "Convert this JSON string to a Python dictionary using `json.loads()` and print the result."
   ]
  },
  {
   "cell_type": "code",
   "execution_count": 3,
   "id": "a2ba7ced",
   "metadata": {},
   "outputs": [
    {
     "name": "stdout",
     "output_type": "stream",
     "text": [
      "{'name': 'Alice', 'age': 25, 'city': 'Wonderland'}\n"
     ]
    }
   ],
   "source": [
    "# Your code here\n",
    "person_json = '{\"name\": \"Alice\", \"age\": 25, \"city\": \"Wonderland\"}'\n",
    "\n",
    "person_dict = json.loads(person_json)\n",
    "print(person_dict)"
   ]
  },
  {
   "cell_type": "markdown",
   "id": "e291d203",
   "metadata": {},
   "source": [
    "## Exercise 3: Reading JSON from a File\n",
    "\n",
    "Write a Python script to read the following JSON data from a file named `data.json` and print it:\n",
    "```json\n",
    "{\n",
    "    \"name\": \"Bob\",\n",
    "    \"age\": 22,\n",
    "    \"city\": \"Paris\"\n",
    "}\n",
    "```"
   ]
  },
  {
   "cell_type": "code",
   "execution_count": 6,
   "id": "a5655d4b",
   "metadata": {},
   "outputs": [
    {
     "name": "stdout",
     "output_type": "stream",
     "text": [
      "{'name': 'mike', 'grade': 'fifth', 'subjects': ['math', 'chem', 'phys', 'PE', 'IS']}\n"
     ]
    }
   ],
   "source": [
    "# Your code here\n",
    "\n",
    "with open('student.json', 'r') as file:\n",
    "    students_dict = json.load(file)\n",
    "    print(students_dict)"
   ]
  },
  {
   "cell_type": "markdown",
   "id": "7b83b8f8",
   "metadata": {},
   "source": [
    "## Exercise 4: Writing JSON to a File\n",
    "\n",
    "Create a Python dictionary representing a student with the following attributes:\n",
    "- name\n",
    "- grade\n",
    "- subjects (a list of subjects)\n",
    "\n",
    "Write this dictionary to a JSON file named `student.json` using `json.dump()`."
   ]
  },
  {
   "cell_type": "code",
   "execution_count": 5,
   "id": "96c1b087",
   "metadata": {},
   "outputs": [],
   "source": [
    "# Your code here\n",
    "student_dict = {\n",
    "    \"name\": \"mike\",\n",
    "    \"grade\": \"fifth\",\n",
    "    \"subjects\": [\"math\", \"chem\", \"phys\", \"PE\", \"IS\"]\n",
    "}\n",
    "\n",
    "with open('student.json', 'w') as file:\n",
    "    json.dump(student_dict, file)"
   ]
  },
  {
   "cell_type": "markdown",
   "id": "7d9b3849",
   "metadata": {},
   "source": [
    "## Exercise 5: Pretty Printing JSON\n",
    "\n",
    "Given a Python dictionary representing a movie with the following attributes:\n",
    "- title\n",
    "- director\n",
    "- year\n",
    "- genre\n",
    "\n",
    "Convert this dictionary to a JSON string with indentation using `json.dumps()` and print the result."
   ]
  },
  {
   "cell_type": "code",
   "execution_count": 7,
   "id": "cfe017d4",
   "metadata": {},
   "outputs": [
    {
     "name": "stdout",
     "output_type": "stream",
     "text": [
      "{\n",
      "    \"name\": \"mike\",\n",
      "    \"grade\": \"fifth\",\n",
      "    \"subjects\": [\n",
      "        \"math\",\n",
      "        \"chem\",\n",
      "        \"phys\",\n",
      "        \"PE\",\n",
      "        \"IS\"\n",
      "    ]\n",
      "}\n"
     ]
    }
   ],
   "source": [
    "# Your code here\n",
    "students_json = json.dumps(student_dict, indent=4)\n",
    "print(students_json)"
   ]
  }
 ],
 "metadata": {
  "kernelspec": {
   "display_name": "Python 3",
   "language": "python",
   "name": "python3"
  },
  "language_info": {
   "codemirror_mode": {
    "name": "ipython",
    "version": 3
   },
   "file_extension": ".py",
   "mimetype": "text/x-python",
   "name": "python",
   "nbconvert_exporter": "python",
   "pygments_lexer": "ipython3",
   "version": "3.11.9"
  }
 },
 "nbformat": 4,
 "nbformat_minor": 5
}
