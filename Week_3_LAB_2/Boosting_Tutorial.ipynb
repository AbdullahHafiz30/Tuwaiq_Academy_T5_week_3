{
  "cells": [
    {
      "cell_type": "markdown",
      "metadata": {
        "id": "qbXhuePolXKL"
      },
      "source": [
        "# Introduction\n",
        "Boosting algorithms are powerful techniques used to improve the performance of weak learners. In this tutorial, we will explore how to use AdaBoost, XGBoost, and Gradient Boosting to predict whether a client will subscribe to a term deposit based on the Bank Marketing dataset. This dataset contains information on direct marketing campaigns of a Portuguese banking institution."
      ]
    },
    {
      "cell_type": "markdown",
      "metadata": {
        "id": "_hTnB_ZUlo4l"
      },
      "source": [
        "## AdaBoost Tutorial\n"
      ]
    },
    {
      "cell_type": "markdown",
      "metadata": {
        "id": "UbOTwlJ4lx40"
      },
      "source": [
        "### Step 1: Import Required Libraries\n",
        "First, import the necessary libraries for data manipulation, model training, and evaluation."
      ]
    },
    {
      "cell_type": "code",
      "execution_count": 1,
      "metadata": {
        "id": "JfWrWb4Wk8hH"
      },
      "outputs": [],
      "source": [
        "import pandas as pd\n",
        "from sklearn.model_selection import train_test_split\n",
        "from sklearn.ensemble import AdaBoostClassifier\n",
        "from sklearn.tree import DecisionTreeClassifier\n",
        "from sklearn.metrics import accuracy_score\n",
        "import warnings\n",
        "warnings.filterwarnings('ignore')"
      ]
    },
    {
      "cell_type": "markdown",
      "metadata": {
        "id": "IUZB4tAnmLxP"
      },
      "source": [
        "### Step 2: Load and Preprocess the Dataset\n",
        "Load the Bank Marketing dataset and preprocess it. This includes handling missing values, encoding categorical variables, and splitting the data into features and target variables."
      ]
    },
    {
      "cell_type": "code",
      "execution_count": 3,
      "metadata": {
        "id": "WVRRXzZDmOBO"
      },
      "outputs": [],
      "source": [
        "# Load the dataset\n",
        "#url = \"https://archive.ics.uci.edu/ml/machine-learning-databases/00222/bank-additional.zip\"\n",
        "#!wget $url # Download the zip file\n",
        "#!unzip bank-additional.zip # Unzip the file\n",
        "file = \"C:\\\\Users\\\\abo_O\\\\Downloads\\\\bank-additional\\\\bank-additional\\\\bank-additional-full.csv\"\n",
        "\n",
        "data = pd.read_csv(file, delimiter=';') # Load the data\n",
        "\n",
        "# Encode categorical variables\n",
        "data = pd.get_dummies(data, drop_first=True)\n",
        "\n",
        "# Split the data into features and target variable\n",
        "X = data.drop('y_yes', axis=1)\n",
        "y = data['y_yes']"
      ]
    },
    {
      "cell_type": "markdown",
      "metadata": {
        "id": "Lj1kXkthmcpv"
      },
      "source": [
        "### Step 3: Split the Dataset\n",
        "Split the dataset into training and testing sets to evaluate the performance of the models."
      ]
    },
    {
      "cell_type": "code",
      "execution_count": 4,
      "metadata": {
        "id": "kKwDqYYrmeYQ"
      },
      "outputs": [],
      "source": [
        "X_train, X_test, y_train, y_test = train_test_split(X, y, test_size=0.15, random_state=42)\n"
      ]
    },
    {
      "cell_type": "markdown",
      "metadata": {
        "id": "QkGTqL6OmtXW"
      },
      "source": [
        "### Step 4: Initialize and Train the AdaBoost Classifier\n",
        "Initialize a Decision Tree classifier and use it as the base estimator for the AdaBoost classifier."
      ]
    },
    {
      "cell_type": "code",
      "execution_count": 7,
      "metadata": {
        "id": "V9SHMVeFmsfZ"
      },
      "outputs": [
        {
          "name": "stdout",
          "output_type": "stream",
          "text": [
            "AdaBoost Classifier Model Accuracy: 90.84%\n"
          ]
        }
      ],
      "source": [
        "# Initialize base classifier and AdaBoost Meta-estimator\n",
        "base_estimator = DecisionTreeClassifier(max_depth=1)\n",
        "adaboost_classifier = AdaBoostClassifier(base_estimator, n_estimators=50, random_state=42)\n",
        "\n",
        "# Train the classifier on the training data\n",
        "adaboost_classifier.fit(X_train, y_train)\n",
        "\n",
        "# Make predictions on the test data\n",
        "predictions = adaboost_classifier.predict(X_test)\n",
        "\n",
        "# Evaluate the model's accuracy\n",
        "accuracy = accuracy_score(y_test, predictions)\n",
        "print(f'AdaBoost Classifier Model Accuracy: {accuracy * 100:.2f}%')\n"
      ]
    },
    {
      "cell_type": "markdown",
      "metadata": {
        "id": "cyHWV9HRm0T0"
      },
      "source": [
        "## XGBoost Tutorial\n"
      ]
    },
    {
      "cell_type": "markdown",
      "metadata": {
        "id": "UqhPu5jfm8GB"
      },
      "source": [
        "### Step 1: Import Required Libraries\n",
        "First, import the necessary libraries for data manipulation, model training, and evaluation."
      ]
    },
    {
      "cell_type": "code",
      "execution_count": 9,
      "metadata": {},
      "outputs": [
        {
          "name": "stdout",
          "output_type": "stream",
          "text": [
            "Collecting xgboost\n",
            "  Downloading xgboost-2.1.1-py3-none-win_amd64.whl.metadata (2.1 kB)\n",
            "Requirement already satisfied: numpy in c:\\users\\abo_o\\appdata\\local\\packages\\pythonsoftwarefoundation.python.3.11_qbz5n2kfra8p0\\localcache\\local-packages\\python311\\site-packages (from xgboost) (2.0.1)\n",
            "Requirement already satisfied: scipy in c:\\users\\abo_o\\appdata\\local\\packages\\pythonsoftwarefoundation.python.3.11_qbz5n2kfra8p0\\localcache\\local-packages\\python311\\site-packages (from xgboost) (1.14.0)\n",
            "Downloading xgboost-2.1.1-py3-none-win_amd64.whl (124.9 MB)\n",
            "   ---------------------------------------- 0.0/124.9 MB ? eta -:--:--\n",
            "   ---------------------------------------- 0.0/124.9 MB ? eta -:--:--\n",
            "   ---------------------------------------- 0.0/124.9 MB ? eta -:--:--\n",
            "   ---------------------------------------- 0.0/124.9 MB ? eta -:--:--\n",
            "   ---------------------------------------- 0.0/124.9 MB 217.9 kB/s eta 0:09:34\n",
            "   ---------------------------------------- 0.0/124.9 MB 217.9 kB/s eta 0:09:34\n",
            "   ---------------------------------------- 0.1/124.9 MB 351.4 kB/s eta 0:05:56\n",
            "   ---------------------------------------- 0.1/124.9 MB 435.7 kB/s eta 0:04:47\n",
            "   ---------------------------------------- 0.2/124.9 MB 544.7 kB/s eta 0:03:50\n",
            "   ---------------------------------------- 0.3/124.9 MB 747.0 kB/s eta 0:02:47\n",
            "   ---------------------------------------- 0.4/124.9 MB 1.0 MB/s eta 0:02:04\n",
            "   ---------------------------------------- 0.6/124.9 MB 1.3 MB/s eta 0:01:37\n",
            "   ---------------------------------------- 0.8/124.9 MB 1.7 MB/s eta 0:01:12\n",
            "   ---------------------------------------- 1.0/124.9 MB 1.9 MB/s eta 0:01:04\n",
            "   ---------------------------------------- 1.5/124.9 MB 2.6 MB/s eta 0:00:47\n",
            "    --------------------------------------- 2.1/124.9 MB 3.4 MB/s eta 0:00:37\n",
            "    --------------------------------------- 2.8/124.9 MB 4.3 MB/s eta 0:00:29\n",
            "   - -------------------------------------- 4.2/124.9 MB 5.8 MB/s eta 0:00:21\n",
            "   - -------------------------------------- 4.9/124.9 MB 6.3 MB/s eta 0:00:19\n",
            "   -- ------------------------------------- 6.5/124.9 MB 8.0 MB/s eta 0:00:15\n",
            "   -- ------------------------------------- 9.3/124.9 MB 10.9 MB/s eta 0:00:11\n",
            "   --- ------------------------------------ 11.8/124.9 MB 29.7 MB/s eta 0:00:04\n",
            "   ---- ----------------------------------- 14.2/124.9 MB 38.6 MB/s eta 0:00:03\n",
            "   ----- ---------------------------------- 16.8/124.9 MB 50.4 MB/s eta 0:00:03\n",
            "   ------ --------------------------------- 18.9/124.9 MB 50.4 MB/s eta 0:00:03\n",
            "   ------ --------------------------------- 20.9/124.9 MB 50.4 MB/s eta 0:00:03\n",
            "   ------- -------------------------------- 23.2/124.9 MB 50.4 MB/s eta 0:00:03\n",
            "   ------- -------------------------------- 23.2/124.9 MB 50.4 MB/s eta 0:00:03\n",
            "   ------- -------------------------------- 23.2/124.9 MB 50.4 MB/s eta 0:00:03\n",
            "   ------- -------------------------------- 23.2/124.9 MB 29.7 MB/s eta 0:00:04\n",
            "   -------- ------------------------------- 25.4/124.9 MB 29.7 MB/s eta 0:00:04\n",
            "   -------- ------------------------------- 27.5/124.9 MB 29.8 MB/s eta 0:00:04\n",
            "   --------- ------------------------------ 29.8/124.9 MB 31.2 MB/s eta 0:00:04\n",
            "   ---------- ----------------------------- 32.8/124.9 MB 32.7 MB/s eta 0:00:03\n",
            "   ----------- ---------------------------- 35.1/124.9 MB 50.4 MB/s eta 0:00:02\n",
            "   ----------- ---------------------------- 37.4/124.9 MB 50.4 MB/s eta 0:00:02\n",
            "   ------------ --------------------------- 39.9/124.9 MB 46.7 MB/s eta 0:00:02\n",
            "   ------------- -------------------------- 42.1/124.9 MB 46.9 MB/s eta 0:00:02\n",
            "   ------------- -------------------------- 43.5/124.9 MB 43.5 MB/s eta 0:00:02\n",
            "   ------------- -------------------------- 43.5/124.9 MB 34.4 MB/s eta 0:00:03\n",
            "   -------------- ------------------------- 43.9/124.9 MB 31.2 MB/s eta 0:00:03\n",
            "   -------------- ------------------------- 45.8/124.9 MB 31.2 MB/s eta 0:00:03\n",
            "   --------------- ------------------------ 48.3/124.9 MB 32.8 MB/s eta 0:00:03\n",
            "   ---------------- ----------------------- 50.7/124.9 MB 32.7 MB/s eta 0:00:03\n",
            "   ---------------- ----------------------- 52.7/124.9 MB 31.2 MB/s eta 0:00:03\n",
            "   ----------------- ---------------------- 54.5/124.9 MB 43.7 MB/s eta 0:00:02\n",
            "   ------------------ --------------------- 56.9/124.9 MB 43.7 MB/s eta 0:00:02\n",
            "   ------------------- -------------------- 59.4/124.9 MB 46.7 MB/s eta 0:00:02\n",
            "   ------------------- -------------------- 60.3/124.9 MB 43.7 MB/s eta 0:00:02\n",
            "   ------------------- -------------------- 60.3/124.9 MB 34.4 MB/s eta 0:00:02\n",
            "   -------------------- ------------------- 63.1/124.9 MB 36.3 MB/s eta 0:00:02\n",
            "   -------------------- ------------------- 63.9/124.9 MB 34.4 MB/s eta 0:00:02\n",
            "   --------------------- ------------------ 66.5/124.9 MB 38.5 MB/s eta 0:00:02\n",
            "   ---------------------- ----------------- 69.3/124.9 MB 38.5 MB/s eta 0:00:02\n",
            "   ---------------------- ----------------- 71.5/124.9 MB 46.7 MB/s eta 0:00:02\n",
            "   ----------------------- ---------------- 73.4/124.9 MB 43.7 MB/s eta 0:00:02\n",
            "   ------------------------ --------------- 75.3/124.9 MB 46.7 MB/s eta 0:00:02\n",
            "   ------------------------ --------------- 77.1/124.9 MB 43.5 MB/s eta 0:00:02\n",
            "   ------------------------- -------------- 78.9/124.9 MB 40.9 MB/s eta 0:00:02\n",
            "   ------------------------- -------------- 80.6/124.9 MB 38.5 MB/s eta 0:00:02\n",
            "   -------------------------- ------------- 82.0/124.9 MB 34.4 MB/s eta 0:00:02\n",
            "   -------------------------- ------------- 83.8/124.9 MB 34.4 MB/s eta 0:00:02\n",
            "   --------------------------- ------------ 85.2/124.9 MB 34.4 MB/s eta 0:00:02\n",
            "   --------------------------- ------------ 86.7/124.9 MB 34.4 MB/s eta 0:00:02\n",
            "   ---------------------------- ----------- 88.1/124.9 MB 36.4 MB/s eta 0:00:02\n",
            "   ---------------------------- ----------- 89.4/124.9 MB 34.4 MB/s eta 0:00:02\n",
            "   ---------------------------- ----------- 89.4/124.9 MB 34.4 MB/s eta 0:00:02\n",
            "   ---------------------------- ----------- 89.4/124.9 MB 34.4 MB/s eta 0:00:02\n",
            "   ----------------------------- ---------- 90.8/124.9 MB 25.2 MB/s eta 0:00:02\n",
            "   ----------------------------- ---------- 92.2/124.9 MB 26.2 MB/s eta 0:00:02\n",
            "   ------------------------------ --------- 93.7/124.9 MB 24.2 MB/s eta 0:00:02\n",
            "   ------------------------------ --------- 95.4/124.9 MB 27.3 MB/s eta 0:00:02\n",
            "   ------------------------------- -------- 99.4/124.9 MB 28.5 MB/s eta 0:00:01\n",
            "   ------------------------------- -------- 99.8/124.9 MB 38.5 MB/s eta 0:00:01\n",
            "   ------------------------------- ------- 100.1/124.9 MB 32.7 MB/s eta 0:00:01\n",
            "   ------------------------------- ------- 101.5/124.9 MB 32.7 MB/s eta 0:00:01\n",
            "   -------------------------------- ------ 103.0/124.9 MB 36.4 MB/s eta 0:00:01\n",
            "   -------------------------------- ------ 104.9/124.9 MB 32.7 MB/s eta 0:00:01\n",
            "   --------------------------------- ----- 106.9/124.9 MB 34.4 MB/s eta 0:00:01\n",
            "   ---------------------------------- ---- 109.1/124.9 MB 32.8 MB/s eta 0:00:01\n",
            "   ---------------------------------- ---- 111.4/124.9 MB 40.9 MB/s eta 0:00:01\n",
            "   ----------------------------------- --- 113.1/124.9 MB 43.7 MB/s eta 0:00:01\n",
            "   ------------------------------------ -- 115.4/124.9 MB 40.9 MB/s eta 0:00:01\n",
            "   ------------------------------------ -- 117.0/124.9 MB 40.9 MB/s eta 0:00:01\n",
            "   ------------------------------------- - 118.8/124.9 MB 43.5 MB/s eta 0:00:01\n",
            "   ------------------------------------- - 121.2/124.9 MB 40.9 MB/s eta 0:00:01\n",
            "   --------------------------------------  122.2/124.9 MB 36.4 MB/s eta 0:00:01\n",
            "   --------------------------------------  122.4/124.9 MB 34.6 MB/s eta 0:00:01\n",
            "   --------------------------------------  124.2/124.9 MB 32.7 MB/s eta 0:00:01\n",
            "   --------------------------------------  124.9/124.9 MB 32.7 MB/s eta 0:00:01\n",
            "   --------------------------------------  124.9/124.9 MB 32.7 MB/s eta 0:00:01\n",
            "   --------------------------------------  124.9/124.9 MB 32.7 MB/s eta 0:00:01\n",
            "   --------------------------------------  124.9/124.9 MB 32.7 MB/s eta 0:00:01\n",
            "   --------------------------------------  124.9/124.9 MB 32.7 MB/s eta 0:00:01\n",
            "   --------------------------------------  124.9/124.9 MB 32.7 MB/s eta 0:00:01\n",
            "   --------------------------------------  124.9/124.9 MB 32.7 MB/s eta 0:00:01\n",
            "   --------------------------------------  124.9/124.9 MB 32.7 MB/s eta 0:00:01\n",
            "   --------------------------------------  124.9/124.9 MB 32.7 MB/s eta 0:00:01\n",
            "   --------------------------------------  124.9/124.9 MB 32.7 MB/s eta 0:00:01\n",
            "   --------------------------------------  124.9/124.9 MB 32.7 MB/s eta 0:00:01\n",
            "   --------------------------------------  124.9/124.9 MB 32.7 MB/s eta 0:00:01\n",
            "   --------------------------------------  124.9/124.9 MB 32.7 MB/s eta 0:00:01\n",
            "   --------------------------------------  124.9/124.9 MB 32.7 MB/s eta 0:00:01\n",
            "   --------------------------------------  124.9/124.9 MB 32.7 MB/s eta 0:00:01\n",
            "   --------------------------------------  124.9/124.9 MB 32.7 MB/s eta 0:00:01\n",
            "   --------------------------------------  124.9/124.9 MB 32.7 MB/s eta 0:00:01\n",
            "   --------------------------------------  124.9/124.9 MB 32.7 MB/s eta 0:00:01\n",
            "   --------------------------------------  124.9/124.9 MB 32.7 MB/s eta 0:00:01\n",
            "   ---------------------------------------- 124.9/124.9 MB 9.0 MB/s eta 0:00:00\n",
            "Installing collected packages: xgboost\n",
            "Successfully installed xgboost-2.1.1\n"
          ]
        },
        {
          "name": "stderr",
          "output_type": "stream",
          "text": [
            "\n",
            "[notice] A new release of pip is available: 24.0 -> 24.2\n",
            "[notice] To update, run: C:\\Users\\abo_O\\AppData\\Local\\Microsoft\\WindowsApps\\PythonSoftwareFoundation.Python.3.11_qbz5n2kfra8p0\\python.exe -m pip install --upgrade pip\n"
          ]
        }
      ],
      "source": [
        "!pip install xgboost"
      ]
    },
    {
      "cell_type": "code",
      "execution_count": 10,
      "metadata": {
        "id": "yDt8m9G9m6xA"
      },
      "outputs": [],
      "source": [
        "import pandas as pd\n",
        "from sklearn.model_selection import train_test_split\n",
        "from xgboost import XGBClassifier\n",
        "from sklearn.metrics import accuracy_score"
      ]
    },
    {
      "cell_type": "markdown",
      "metadata": {
        "id": "0ax-nGSfntwM"
      },
      "source": [
        "### Step 2: Load and Preprocess the Dataset\n",
        "Load the Bank Marketing dataset and preprocess it. This includes handling missing values, encoding categorical variables, and splitting the data into features and target variables."
      ]
    },
    {
      "cell_type": "code",
      "execution_count": 11,
      "metadata": {
        "id": "VW1t1XCxnxhC"
      },
      "outputs": [],
      "source": [
        "# # Load the dataset\n",
        "# url = \"https://archive.ics.uci.edu/ml/machine-learning-databases/00222/bank-additional.zip\"\n",
        "# !wget $url # Download the zip file\n",
        "# !unzip bank-additional.zip # Unzip the file\n",
        "# data = pd.read_csv('bank-additional/bank-additional-full.csv', delimiter=';') # Load the data\n",
        "\n",
        "# Encode categorical variables\n",
        "data = pd.get_dummies(data, drop_first=True)\n",
        "\n",
        "# Split the data into features and target variable\n",
        "X = data.drop('y_yes', axis=1)\n",
        "y = data['y_yes']"
      ]
    },
    {
      "cell_type": "markdown",
      "metadata": {
        "id": "NXX_PSXSoHmp"
      },
      "source": [
        "### Step 3: Split the Dataset\n",
        "Split the dataset into training and testing sets to evaluate the performance of the models."
      ]
    },
    {
      "cell_type": "code",
      "execution_count": 12,
      "metadata": {
        "id": "Cdh8eq8zoIxi"
      },
      "outputs": [],
      "source": [
        "X_train, X_test, y_train, y_test = train_test_split(X, y, test_size=0.3, random_state=42)"
      ]
    },
    {
      "cell_type": "markdown",
      "metadata": {
        "id": "YjBKszY3oN42"
      },
      "source": [
        "### Step 4: Initialize and Train the XGBoost Classifier\n",
        "Initialize and train the XGBoost classifier."
      ]
    },
    {
      "cell_type": "code",
      "execution_count": 13,
      "metadata": {
        "id": "zHkLiLENoRPe"
      },
      "outputs": [
        {
          "name": "stdout",
          "output_type": "stream",
          "text": [
            "XGBoost Classifier Model Accuracy: 91.58%\n"
          ]
        }
      ],
      "source": [
        "# Initialize and train the XGBoost classifier\n",
        "xgb_classifier = XGBClassifier(n_estimators=50, random_state=42)\n",
        "xgb_classifier.fit(X_train, y_train)\n",
        "\n",
        "# Make predictions on the test data\n",
        "predictions = xgb_classifier.predict(X_test)\n",
        "\n",
        "# Evaluate the model's accuracy\n",
        "accuracy = accuracy_score(y_test, predictions)\n",
        "print(f'XGBoost Classifier Model Accuracy: {accuracy * 100:.2f}%')"
      ]
    },
    {
      "cell_type": "markdown",
      "metadata": {
        "id": "HC5D5c0hoUVc"
      },
      "source": [
        "## Gradient Boosting Tutorial\n"
      ]
    },
    {
      "cell_type": "markdown",
      "metadata": {
        "id": "N8S9U-41oab4"
      },
      "source": [
        "### Step 1: Import Required Libraries\n",
        "First, import the necessary libraries for data manipulation, model training, and evaluation."
      ]
    },
    {
      "cell_type": "code",
      "execution_count": 14,
      "metadata": {
        "id": "tJRkKxR9oYEK"
      },
      "outputs": [],
      "source": [
        "import pandas as pd\n",
        "from sklearn.model_selection import train_test_split\n",
        "from sklearn.ensemble import GradientBoostingClassifier\n",
        "from sklearn.metrics import accuracy_score"
      ]
    },
    {
      "cell_type": "markdown",
      "metadata": {
        "id": "Jp5NR3ByoelM"
      },
      "source": [
        "### Step 2: Load and Preprocess the Dataset\n",
        "Load the Bank Marketing dataset and preprocess it. This includes handling missing values, encoding categorical variables, and splitting the data into features and target variables."
      ]
    },
    {
      "cell_type": "code",
      "execution_count": 15,
      "metadata": {
        "id": "BPS8_qBrohcf"
      },
      "outputs": [],
      "source": [
        "# # Load the dataset\n",
        "# url = \"https://archive.ics.uci.edu/ml/machine-learning-databases/00222/bank-additional.zip\"\n",
        "# !wget $url # Download the zip file\n",
        "# !unzip bank-additional.zip # Unzip the file\n",
        "# data = pd.read_csv('bank-additional/bank-additional-full.csv', delimiter=';') # Load the data\n",
        "\n",
        "# Encode categorical variables\n",
        "data = pd.get_dummies(data, drop_first=True)\n",
        "\n",
        "# Split the data into features and target variable\n",
        "X = data.drop('y_yes', axis=1)\n",
        "y = data['y_yes']"
      ]
    },
    {
      "cell_type": "markdown",
      "metadata": {
        "id": "hVjHzyr7opoL"
      },
      "source": [
        "### Step 3: Split the Dataset\n",
        "Split the dataset into training and testing sets to evaluate the performance of the models."
      ]
    },
    {
      "cell_type": "code",
      "execution_count": 16,
      "metadata": {
        "id": "IGe6bC74oq3q"
      },
      "outputs": [],
      "source": [
        "X_train, X_test, y_train, y_test = train_test_split(X, y, test_size=0.25, random_state=42)"
      ]
    },
    {
      "cell_type": "markdown",
      "metadata": {
        "id": "lFkcaygKoyCG"
      },
      "source": [
        "### Step 4: Initialize and Train the Gradient Boosting Classifier\n",
        "Initialize and train the Gradient Boosting classifier."
      ]
    },
    {
      "cell_type": "code",
      "execution_count": 17,
      "metadata": {
        "id": "N4saJTWeoxwV"
      },
      "outputs": [
        {
          "name": "stdout",
          "output_type": "stream",
          "text": [
            "Gradient Boosting Classifier Model Accuracy: 91.62%\n"
          ]
        }
      ],
      "source": [
        "# Initialize and train the Gradient Boosting classifier\n",
        "gradient_boosting_classifier = GradientBoostingClassifier(n_estimators=50, random_state=42)\n",
        "gradient_boosting_classifier.fit(X_train, y_train)\n",
        "\n",
        "# Make predictions on the test data\n",
        "predictions = gradient_boosting_classifier.predict(X_test)\n",
        "\n",
        "# Evaluate the model's accuracy\n",
        "accuracy = accuracy_score(y_test, predictions)\n",
        "print(f'Gradient Boosting Classifier Model Accuracy: {accuracy * 100:.2f}%')"
      ]
    },
    {
      "cell_type": "code",
      "execution_count": null,
      "metadata": {},
      "outputs": [],
      "source": []
    }
  ],
  "metadata": {
    "colab": {
      "provenance": []
    },
    "kernelspec": {
      "display_name": "Python 3",
      "name": "python3"
    },
    "language_info": {
      "codemirror_mode": {
        "name": "ipython",
        "version": 3
      },
      "file_extension": ".py",
      "mimetype": "text/x-python",
      "name": "python",
      "nbconvert_exporter": "python",
      "pygments_lexer": "ipython3",
      "version": "3.11.9"
    }
  },
  "nbformat": 4,
  "nbformat_minor": 0
}
